{
 "metadata": {
  "language_info": {
   "codemirror_mode": {
    "name": "ipython",
    "version": 3
   },
   "file_extension": ".py",
   "mimetype": "text/x-python",
   "name": "python",
   "nbconvert_exporter": "python",
   "pygments_lexer": "ipython3",
   "version": "3.6.4-final"
  },
  "orig_nbformat": 2,
  "kernelspec": {
   "name": "python3",
   "display_name": "Python 3",
   "language": "python"
  }
 },
 "nbformat": 4,
 "nbformat_minor": 2,
 "cells": [
  {
   "cell_type": "code",
   "execution_count": null,
   "metadata": {},
   "outputs": [],
   "source": [
    "\n",
    "\n",
    "\n",
    "from airtest.core.api import *\n",
    "from poco.drivers.android.uiautomation import AndroidUiautomationPoco\n",
    "\n",
    "\n",
    "\n",
    "\n",
    "poco = AndroidUiautomationPoco()\n",
    "poco.device.wake()"
   ]
  },
  {
   "cell_type": "code",
   "execution_count": null,
   "metadata": {},
   "outputs": [],
   "source": [
    "import re\n",
    "res = poco(\"android.widget.ScrollView\").child(\"android.view.View\")\n",
    "print(res)\n",
    "views = [i for i in res]\n",
    "print(views[1].get_text())\n",
    "txt = views[1].get_text().replace(' ', ' ')\n",
    "\n",
    "print(txt)\n",
    "res = re.findall('(?<=[^\\d])\\d+(?=人想要)', txt)\n",
    "print(res)\n",
    "res = re.findall('￥\\s\\d+(\\.\\d+)?\\s(\\d+人想要)*', txt.replace('\\n', ' '))\n",
    "print(res)"
   ]
  },
  {
   "cell_type": "code",
   "execution_count": null,
   "metadata": {},
   "outputs": [],
   "source": [
    "if(poco(text=\"向右滑动验证\").exists):\n",
    "    print('jjj')\n",
    "    pos = poco(\"nc_1_n1t\").attr('pos')\n",
    "    mid = poco(text=\"向右滑动验证\").attr('pos')\n",
    "    print(pos)\n",
    "    print(mid)\n",
    "    w = mid[0] - pos[0]\n",
    "    mid[0] = mid[0] + w\n",
    "    print(mid)\n",
    "    swipe(pos,mid, duration = 3)"
   ]
  },
  {
   "cell_type": "code",
   "execution_count": null,
   "metadata": {},
   "outputs": [],
   "source": [
    "adb = poco.adb_client\n",
    "adb.shell('am broadcast -a clipper.get')"
   ]
  },
  {
   "cell_type": "code",
   "execution_count": null,
   "metadata": {},
   "outputs": [],
   "source": [
    "img = adb.snapshot()"
   ]
  },
  {
   "cell_type": "code",
   "execution_count": null,
   "metadata": {},
   "outputs": [],
   "source": [
    "print(img)"
   ]
  },
  {
   "cell_type": "code",
   "execution_count": null,
   "metadata": {},
   "outputs": [],
   "source": [
    "import base64\n",
    "import matplotlib.image as image\n",
    "import matplotlib.pyplot as plt\n",
    "from PIL import Image\n",
    "import io\n",
    "import datetime\n",
    "import uuid\n",
    "import random\n",
    "import os\n",
    "\n",
    "########################################\n",
    "# pos:中心点位置(x,y)\n",
    "# size: (width, height)\n",
    "def getFishSnapShot(pos, size):\n",
    "\n",
    "    res = poco.snapshot()\n",
    "    img_data = base64.b64decode(res[0])\n",
    "\n",
    "    ff = io.BytesIO(img_data)\n",
    "    img = image.imread(ff, res[1])\n",
    "    # img2 = Image.open(ff)\n",
    "    # img2.show()\n",
    "    shape = img.shape\n",
    "    screen_h = shape[0]\n",
    "    screen_w = shape[1]\n",
    "\n",
    "    pos_x = int(pos[0]*screen_w)\n",
    "    pos_y = int(pos[1]*screen_h)\n",
    "\n",
    "    item_w = int(screen_w * size[0])\n",
    "    item_h = int(screen_h * size[1])\n",
    "    item_begin_x = pos_x - item_w//2 -1\n",
    "    item_begin_y = pos_y - item_h//2 - 1\n",
    "    item_end_x = item_begin_x + item_w + 2\n",
    "    item_end_y = item_begin_y + item_h + 2\n",
    "    img2 = img[item_begin_y:item_end_y, item_begin_x:item_end_x, :]\n",
    "    plt.axis('off')\n",
    "    #plt.imshow(img2)\n",
    "    #img_name = str(uuid.uuid1()) + \".png\"\n",
    "    img_name = \"Fish-\" + datetime.datetime.now().strftime(\"%Y-%m-%d-%H%M%S-\")+ str(random.randint(1000000,10000000)) + \".png\"\n",
    "    img_dir = 'img'\n",
    "    if(not os.path.exists(img_dir)):\n",
    "        os.mkdir(img_dir)\n",
    "    Image.fromarray(img2).save( img_dir + '/' + img_name)\n",
    "    # with open('1.'+res[1], 'wb') as f:\n",
    "    #     f.write(img_data)\n",
    "    #     f.close()\n",
    "    return img_name\n"
   ]
  },
  {
   "cell_type": "code",
   "execution_count": null,
   "metadata": {},
   "outputs": [],
   "source": [
    "views = poco(\"android.widget.ScrollView\").child(\"android.view.View\")\n",
    "for i in views:\n",
    "    print('###################')\n",
    "    txt = i.get_text()\n",
    "    if(txt):\n",
    "        pos = i.attr('pos')\n",
    "        size = i.attr('size')\n",
    "        print(pos)\n",
    "        print(size)\n",
    "        getFishSnapShot(pos, size)\n",
    "    #print(i.get_text())"
   ]
  },
  {
   "cell_type": "code",
   "execution_count": null,
   "metadata": {},
   "outputs": [],
   "source": [
    "datetime.datetime.now().strftime(\"%Y-%m-%d %H%M%S \")+ str(random.randint(1000000,10000000))"
   ]
  },
  {
   "cell_type": "code",
   "execution_count": null,
   "metadata": {},
   "outputs": [],
   "source": [
    "poco(\"com.taobao.idlefish:id/tx_id\").click()"
   ]
  },
  {
   "cell_type": "code",
   "execution_count": null,
   "metadata": {},
   "outputs": [],
   "source": [
    "poco(\"android.widget.EditText\").setattr('text', 'ddd')\n",
    "# text('ddddd')"
   ]
  },
  {
   "cell_type": "code",
   "execution_count": null,
   "metadata": {},
   "outputs": [],
   "source": [
    "res = adb.shell('pm list packages')\n",
    "ary = res.split('\\r\\n')\n",
    "ary.sort()\n",
    "for i in ary:\n",
    "    print(i)\n"
   ]
  },
  {
   "cell_type": "code",
   "execution_count": null,
   "metadata": {},
   "outputs": [],
   "source": [
    "adb.shell('pm path com.taobao.idlefish')"
   ]
  },
  {
   "cell_type": "code",
   "execution_count": null,
   "metadata": {},
   "outputs": [],
   "source": []
  },
  {
   "cell_type": "code",
   "execution_count": null,
   "metadata": {},
   "outputs": [],
   "source": [
    "adb.pull('/data/app/com.taobao.idlefish-1/base.apk', './idle_fish.apk')"
   ]
  },
  {
   "cell_type": "code",
   "execution_count": null,
   "metadata": {},
   "outputs": [],
   "source": [
    "import pymongo\n",
    "\n",
    "mongoClient = pymongo.MongoClient('mongodb://localhost:27017')\n",
    "\n",
    "mydb = mongoClient['idle_fish']\n",
    "fish_list = mydb['fish']\n",
    "block_nickname = mydb['block_nickname']\n",
    "\n",
    "# fish_list.create_index([(\"url_id\", pymongo.DESCENDING)], unique = True)\n",
    "# item = {'url_id':1234, 'title':\"iphone8\"}\n",
    "# x = fish_list.insert_one(item)\n",
    "\n",
    "# res = fish_list.find_one({'url_id':'6364531625454'})\n",
    "# print(res)\n",
    "\n",
    "# user_Info = mydb['user_info']\n",
    "\n",
    "res = block_nickname.find({}, {\"_id\":0,'nickname': 1})\n",
    "block_nickname_list = [i['nickname'] for i in res]\n",
    "block_nickname_list.append('彩虹的微笑&amp;alpha;')\n",
    "block_nickname_list.append('橘先生sir')\n",
    "print(block_nickname_list)\n",
    "\n",
    "filter = {'nickname':{'$nin':block_nickname_list}}\n",
    "res = fish_list.find( filter,{'_id':0, 'nickname':1}).sort([('img_name',-1)]).limit(20)\n",
    "print([i for i in res])\n",
    "\n",
    "# a = fish_list.find({},{'_id':0}).sort([('img_name',-1)]).limit(20)\n",
    "# for i in a:\n",
    "#     print(\"\")\n",
    "#     print(i)"
   ]
  }
 ]
}