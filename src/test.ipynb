{
 "metadata": {
  "language_info": {
   "codemirror_mode": {
    "name": "ipython",
    "version": 3
   },
   "file_extension": ".py",
   "mimetype": "text/x-python",
   "name": "python",
   "nbconvert_exporter": "python",
   "pygments_lexer": "ipython3",
   "version": "3.7.3-final"
  },
  "orig_nbformat": 2,
  "kernelspec": {
   "name": "python3",
   "display_name": "Python 3",
   "language": "python"
  }
 },
 "nbformat": 4,
 "nbformat_minor": 2,
 "cells": [
  {
   "cell_type": "code",
   "execution_count": null,
   "metadata": {},
   "outputs": [],
   "source": [
    "\n",
    "\n",
    "\n",
    "from airtest.core.api import *\n",
    "from poco.drivers.android.uiautomation import AndroidUiautomationPoco\n",
    "\n",
    "\n",
    "\n",
    "\n",
    "poco = AndroidUiautomationPoco()\n",
    "poco.device.wake()"
   ]
  },
  {
   "cell_type": "code",
   "execution_count": null,
   "metadata": {},
   "outputs": [],
   "source": [
    "import re\n",
    "res = poco(\"android.widget.ScrollView\").child(\"android.view.View\")\n",
    "print(res)\n",
    "views = [i for i in res]\n",
    "print(views[1].get_text())\n",
    "txt = views[1].get_text().replace(' ', ' ')\n",
    "\n",
    "print(txt)\n",
    "res = re.findall('(?<=[^\\d])\\d+(?=人想要)', txt)\n",
    "print(res)\n",
    "res = re.findall('￥\\s\\d+(\\.\\d+)?\\s(\\d+人想要)*', txt.replace('\\n', ' '))\n",
    "print(res)"
   ]
  },
  {
   "cell_type": "code",
   "execution_count": null,
   "metadata": {},
   "outputs": [],
   "source": [
    "if(poco(text=\"向右滑动验证\").exists):\n",
    "    print('jjj')\n",
    "    pos = poco(\"nc_1_n1t\").attr('pos')\n",
    "    mid = poco(text=\"向右滑动验证\").attr('pos')\n",
    "    print(pos)\n",
    "    print([mid])\n",
    "    w = mid[0] - pos[0]\n",
    "    mid[0] = mid[0] + w\n",
    "    print(mid)\n",
    "    x1 = int(pos[0] * 1080)\n",
    "    y1 = int(pos[1] * 1920)\n",
    "    x2 = int(mid[0] * 1080)\n",
    "    y2 = int(mid[1] * 1920)\n",
    "    adb = poco.adb_client\n",
    "    print(adb.get_display_info())\n",
    "    swipe([x1, y1], [x2, y2], duration = 2, steps = 30)\n",
    " \n",
    "\n",
    "    "
   ]
  },
  {
   "cell_type": "code",
   "execution_count": null,
   "metadata": {},
   "outputs": [],
   "source": [
    "if(poco(text=\"刷新\").exists()):\n",
    "    poco(text=\"刷新\").click()"
   ]
  },
  {
   "cell_type": "code",
   "execution_count": null,
   "metadata": {},
   "outputs": [],
   "source": [
    "adb = poco.adb_client\n",
    "adb.shell('am broadcast -a clipper.get')"
   ]
  },
  {
   "cell_type": "code",
   "execution_count": null,
   "metadata": {},
   "outputs": [],
   "source": [
    "img = adb.snapshot()"
   ]
  },
  {
   "cell_type": "code",
   "execution_count": null,
   "metadata": {},
   "outputs": [],
   "source": [
    "print(img)"
   ]
  },
  {
   "cell_type": "code",
   "execution_count": null,
   "metadata": {},
   "outputs": [],
   "source": [
    "import base64\n",
    "import matplotlib.image as image\n",
    "import matplotlib.pyplot as plt\n",
    "from PIL import Image\n",
    "import io\n",
    "import datetime\n",
    "import uuid\n",
    "import random\n",
    "import os\n",
    "\n",
    "########################################\n",
    "# pos:中心点位置(x,y)\n",
    "# size: (width, height)\n",
    "def getFishSnapShot(pos, size):\n",
    "\n",
    "    res = poco.snapshot()\n",
    "    img_data = base64.b64decode(res[0])\n",
    "\n",
    "    ff = io.BytesIO(img_data)\n",
    "    img = image.imread(ff, res[1])\n",
    "    # img2 = Image.open(ff)\n",
    "    # img2.show()\n",
    "    shape = img.shape\n",
    "    screen_h = shape[0]\n",
    "    screen_w = shape[1]\n",
    "\n",
    "    pos_x = int(pos[0]*screen_w)\n",
    "    pos_y = int(pos[1]*screen_h)\n",
    "\n",
    "    item_w = int(screen_w * size[0])\n",
    "    item_h = int(screen_h * size[1])\n",
    "    item_begin_x = pos_x - item_w//2 -1\n",
    "    item_begin_y = pos_y - item_h//2 - 1\n",
    "    item_end_x = item_begin_x + item_w + 2\n",
    "    item_end_y = item_begin_y + item_h + 2\n",
    "    img2 = img[item_begin_y:item_end_y, item_begin_x:item_end_x, :]\n",
    "    plt.axis('off')\n",
    "    #plt.imshow(img2)\n",
    "    #img_name = str(uuid.uuid1()) + \".png\"\n",
    "    img_name = \"Fish-\" + datetime.datetime.now().strftime(\"%Y-%m-%d-%H%M%S-\")+ str(random.randint(1000000,10000000)) + \".png\"\n",
    "    img_dir = 'img'\n",
    "    if(not os.path.exists(img_dir)):\n",
    "        os.mkdir(img_dir)\n",
    "    Image.fromarray(img2).save( img_dir + '/' + img_name)\n",
    "    # with open('1.'+res[1], 'wb') as f:\n",
    "    #     f.write(img_data)\n",
    "    #     f.close()\n",
    "    return img_name\n"
   ]
  },
  {
   "cell_type": "code",
   "execution_count": null,
   "metadata": {},
   "outputs": [],
   "source": [
    "views = poco(\"android.widget.ScrollView\").child(\"android.view.View\")\n",
    "for i in views:\n",
    "    print('###################')\n",
    "    txt = i.get_text()\n",
    "    if(txt):\n",
    "        pos = i.attr('pos')\n",
    "        size = i.attr('size')\n",
    "        print(pos)\n",
    "        print(size)\n",
    "        getFishSnapShot(pos, size)\n",
    "    #print(i.get_text())"
   ]
  },
  {
   "cell_type": "code",
   "execution_count": null,
   "metadata": {},
   "outputs": [],
   "source": [
    "datetime.datetime.now().strftime(\"%Y-%m-%d %H%M%S \")+ str(random.randint(1000000,10000000))"
   ]
  },
  {
   "cell_type": "code",
   "execution_count": null,
   "metadata": {},
   "outputs": [],
   "source": [
    "poco(\"com.taobao.idlefish:id/tx_id\").click()"
   ]
  },
  {
   "cell_type": "code",
   "execution_count": null,
   "metadata": {},
   "outputs": [],
   "source": [
    "poco(\"android.widget.EditText\").setattr('text', 'ddd')\n",
    "# text('ddddd')"
   ]
  },
  {
   "cell_type": "code",
   "execution_count": null,
   "metadata": {},
   "outputs": [],
   "source": [
    "res = adb.shell('pm list packages')\n",
    "ary = res.split('\\r\\n')\n",
    "ary.sort()\n",
    "for i in ary:\n",
    "    print(i)\n"
   ]
  },
  {
   "cell_type": "code",
   "execution_count": null,
   "metadata": {},
   "outputs": [],
   "source": [
    "adb.shell('pm path com.taobao.idlefish')"
   ]
  },
  {
   "cell_type": "code",
   "execution_count": null,
   "metadata": {},
   "outputs": [],
   "source": []
  },
  {
   "cell_type": "code",
   "execution_count": null,
   "metadata": {},
   "outputs": [],
   "source": [
    "adb.pull('/data/app/com.taobao.idlefish-1/base.apk', './idle_fish.apk')"
   ]
  },
  {
   "cell_type": "code",
   "execution_count": null,
   "metadata": {
    "tags": []
   },
   "outputs": [],
   "source": [
    "import pymongo\n",
    "from pymongo.errors import DuplicateKeyError\n",
    "\n",
    "mongoClient = pymongo.MongoClient('mongodb://localhost:27017')\n",
    "\n",
    "mydb = mongoClient['idle_fish']\n",
    "fish_list = mydb['items']\n",
    "block_nickname = mydb['block_nickname']\n",
    "\n",
    "# fish_list.create_index([(\"url_id\", pymongo.DESCENDING)], unique = True)\n",
    "# item = {'url_id':1234, 'title':\"iphone8\"}\n",
    "# x = fish_list.insert_one(item)\n",
    "\n",
    "# res = fish_list.find_one({'url_id':'6364531625454'})\n",
    "# print(res)\n",
    "\n",
    "# user_Info = mydb['user_info']\n",
    "\n",
    "\n",
    "# # 排除搜索\n",
    "# res = block_nickname.find({}, {\"_id\":0,'nickname': 1})\n",
    "# block_nickname_list = [i['nickname'] for i in res]\n",
    "# print(block_nickname_list)\n",
    "\n",
    "# filter = {'nickname':{'$nin':block_nickname_list}}\n",
    "# res = fish_list.find( filter,{'_id':0, 'nickname':1}).sort([('img_name',-1)]).limit(20)\n",
    "# print([i for i in res])\n",
    "\n",
    "        "
   ]
  },
  {
   "source": [
    "## 添加block_nickname"
   ],
   "cell_type": "markdown",
   "metadata": {}
  },
  {
   "cell_type": "code",
   "execution_count": null,
   "metadata": {},
   "outputs": [],
   "source": [
    "import pymongo\n",
    "from pymongo.errors import DuplicateKeyError\n",
    "\n",
    "mongoClient = pymongo.MongoClient('mongodb://localhost:27017')\n",
    "\n",
    "mydb = mongoClient['idle_fish']\n",
    "fish_list = mydb['items']\n",
    "block_nickname = mydb['block_nickname']\n",
    "\n",
    "\n",
    "# 若某个nickname名下fish超过给定值，则很可能非个人卖家，加入屏蔽名单\n",
    "def addBlocknickname(nickname):\n",
    "    try:\n",
    "        block_nickname.insert_one({'nickname': nickname})\n",
    "        print(\"add %s to block_nickname!\"% nickname)\n",
    "    except DuplicateKeyError as err:\n",
    "        #print('DuplicateKey %s'% nickname)\n",
    "        pass\n",
    "res = fish_list.aggregate([{\"$group\": {\"_id\":\"$nickname\", \"fish_num\":{\"$sum\":1}}}])\n",
    "for i in res:\n",
    "    #print(i)\n",
    "    ll = ['通讯', '数码', '店', '手机', '批发', '二手', '工作室', '回收', '出售', '优品', 'iphone', '交易']\n",
    "    for kw in ll:\n",
    "        if(i['_id'].find(kw) > -1):\n",
    "            addBlocknickname(i['_id'])\n",
    "            break\n",
    "    if(i['fish_num'] > 3):\n",
    "        addBlocknickname(i['_id'])\n",
    "        "
   ]
  },
  {
   "source": [
    "## 图片链接"
   ],
   "cell_type": "markdown",
   "metadata": {}
  },
  {
   "cell_type": "code",
   "execution_count": null,
   "metadata": {},
   "outputs": [],
   "source": [
    "# import pymongo\n",
    "# from pymongo.errors import DuplicateKeyError\n",
    "\n",
    "# mongoClient = pymongo.MongoClient('mongodb://localhost:27017')\n",
    "\n",
    "# mydb = mongoClient['idle_fish']\n",
    "# fish_list = mydb['fish']\n",
    "# block_nickname = mydb['block_nickname']\n",
    "# db_items = mydb['items']\n",
    "\n",
    "# res = fish_list.find({}).limit(2)\n",
    "# def replaceCol(a, src, des):\n",
    "#     a[des] = a[src]\n",
    "#     del a[src]\n",
    "# for i in res:\n",
    "#     i['item_id'] = int(i['url_id'])\n",
    "#     del i['url_id']\n",
    "#     replaceCol(i, 'wanted', 'want')\n",
    "#     #replaceCol(i, 'url_id', 'item_id')\n",
    "#     replaceCol(i, 'user_id', 'unique_name')\n",
    "#     replaceCol(i, 'location', 'area')\n",
    "#     replaceCol(i, 'detail', 'desc')\n",
    "\n",
    "#     i['pic_url'] = 'img/' + i['img_name']\n",
    "#     del i['img_name']\n",
    "#     db_items.insert_one(i)\n",
    "#     print(i)\n"
   ]
  },
  {
   "cell_type": "code",
   "execution_count": 13,
   "metadata": {},
   "outputs": [
    {
     "output_type": "execute_result",
     "data": {
      "text/plain": [
       "[]"
      ]
     },
     "metadata": {},
     "execution_count": 13
    }
   ],
   "source": [
    "import re\n",
    "\n",
    "re.findall('果|iphone','4IdPhone'.lower())"
   ]
  },
  {
   "cell_type": "code",
   "execution_count": 15,
   "metadata": {},
   "outputs": [
    {
     "output_type": "execute_result",
     "data": {
      "text/plain": [
       "0"
      ]
     },
     "metadata": {},
     "execution_count": 15
    }
   ],
   "source": [
    "from subprocess import call\n",
    "\n",
    "cmd = 'display notification \\\"' + \\\n",
    "    \"Notificaton memo\\n\\ndddd\\nddd\\nd\\nd\\nd\" + '\\\" with title \\\"Titile\\\"'\n",
    "call([\"osascript\", \"-e\", cmd])\n",
    "\n"
   ]
  },
  {
   "cell_type": "code",
   "execution_count": 16,
   "metadata": {},
   "outputs": [
    {
     "output_type": "execute_result",
     "data": {
      "text/plain": [
       "'{\"dd\": 45, \"bb\": \"sss\"}'"
      ]
     },
     "metadata": {},
     "execution_count": 16
    }
   ],
   "source": [
    "import json\n",
    "\n",
    "a = {'dd':45, 'bb':\"sss\"}\n",
    "json.dumps(a)"
   ]
  }
 ]
}