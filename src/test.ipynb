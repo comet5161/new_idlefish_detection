{
 "metadata": {
  "language_info": {
   "codemirror_mode": {
    "name": "ipython",
    "version": 3
   },
   "file_extension": ".py",
   "mimetype": "text/x-python",
   "name": "python",
   "nbconvert_exporter": "python",
   "pygments_lexer": "ipython3",
   "version": "3.6.4-final"
  },
  "orig_nbformat": 2,
  "kernelspec": {
   "name": "python3",
   "display_name": "Python 3",
   "language": "python"
  }
 },
 "nbformat": 4,
 "nbformat_minor": 2,
 "cells": [
  {
   "cell_type": "code",
   "execution_count": 146,
   "metadata": {},
   "outputs": [
    {
     "output_type": "stream",
     "name": "stderr",
     "text": [
      "[02:41:19][DEBUG]<airtest.core.android.adb> C:\\ProgramData\\Anaconda3\\lib\\site-packages\\airtest\\core\\android\\static\\adb\\windows\\adb.exe -s 721QEDRQ35AR3 shell dumpsys activity top\n",
      "[02:41:19][DEBUG]<airtest.core.android.adb> C:\\ProgramData\\Anaconda3\\lib\\site-packages\\airtest\\core\\android\\static\\adb\\windows\\adb.exe -s 721QEDRQ35AR3 shell dumpsys package com.netease.nie.yosemite\n",
      "[02:41:19][INFO]<airtest.core.android.yosemite> local version code is 303, installed version code is 303\n",
      "[02:41:19][DEBUG]<airtest.core.android.adb> C:\\ProgramData\\Anaconda3\\lib\\site-packages\\airtest\\core\\android\\static\\adb\\windows\\adb.exe -s 721QEDRQ35AR3 shell settings get secure default_input_method\n",
      "[02:41:20][DEBUG]<airtest.core.android.adb> C:\\ProgramData\\Anaconda3\\lib\\site-packages\\airtest\\core\\android\\static\\adb\\windows\\adb.exe -s 721QEDRQ35AR3 shell ime list -a\n",
      "[pocoservice.apk] stdout: b'\\r\\ncom.netease.open.pocoservice.InstrumentedTestAsLauncher:INSTRUMENTATION_RESULT: shortMsg=Process crashed.\\r\\nINSTRUMENTATION_CODE: 0\\r\\n'\n",
      "[pocoservice.apk] stderr: b''\n",
      "[pocoservice.apk] stdout: b'\\r\\ncom.netease.open.pocoservice.InstrumentedTestAsLauncher:INSTRUMENTATION_RESULT: shortMsg=Process crashed.\\r\\nINSTRUMENTATION_CODE: 0\\r\\n'\n",
      "[pocoservice.apk] stderr: b''\n",
      "[pocoservice.apk] stdout: b'INSTRUMENTATION_RESULT: shortMsg=Process crashed.\\r\\nINSTRUMENTATION_CODE: 0\\r\\n'\n",
      "[pocoservice.apk] stderr: b''\n",
      "[02:41:21][DEBUG]<airtest.core.android.adb> C:\\ProgramData\\Anaconda3\\lib\\site-packages\\airtest\\core\\android\\static\\adb\\windows\\adb.exe -s 721QEDRQ35AR3 shell dumpsys package com.netease.open.pocoservice\n",
      "[02:41:21][DEBUG]<airtest.core.android.adb> C:\\ProgramData\\Anaconda3\\lib\\site-packages\\airtest\\core\\android\\static\\adb\\windows\\adb.exe -s 721QEDRQ35AR3 shell dumpsys package com.netease.open.pocoservice.test\n",
      "[02:41:22][DEBUG]<airtest.core.android.adb> C:\\ProgramData\\Anaconda3\\lib\\site-packages\\airtest\\core\\android\\static\\adb\\windows\\adb.exe -s 721QEDRQ35AR3 forward --no-rebind tcp:12249 tcp:10080\n",
      "installed version is 41, installer version is 41. force_reinstall=False\n",
      "installed version is 0, installer version is 0. force_reinstall=False\n",
      "[02:41:22][DEBUG]<airtest.core.android.adb> C:\\ProgramData\\Anaconda3\\lib\\site-packages\\airtest\\core\\android\\static\\adb\\windows\\adb.exe -s 721QEDRQ35AR3 forward --no-rebind tcp:11548 tcp:10081\n",
      "[02:41:22][DEBUG]<airtest.core.android.adb> C:\\ProgramData\\Anaconda3\\lib\\site-packages\\airtest\\core\\android\\static\\adb\\windows\\adb.exe -s 721QEDRQ35AR3 shell ps |echo $(grep -E com.github.uiautomator)\n",
      "still waiting for uiautomation ready.\n",
      "[02:41:22][DEBUG]<airtest.core.android.adb> C:\\ProgramData\\Anaconda3\\lib\\site-packages\\airtest\\core\\android\\static\\adb\\windows\\adb.exe -s 721QEDRQ35AR3 shell input keyevent HOME\n",
      "[pocoservice.apk] stdout: b'\\r\\ncom.netease.open.pocoservice.InstrumentedTestAsLauncher:INSTRUMENTATION_RESULT: shortMsg=Process crashed.\\r\\nINSTRUMENTATION_CODE: 0\\r\\n'[pocoservice.apk] stdout: b'INSTRUMENTATION_RESULT: shortMsg=Process crashed.\\r\\nINSTRUMENTATION_CODE: 0\\r\\n'\n",
      "[pocoservice.apk] stderr: b''\n",
      "\n",
      "[pocoservice.apk] stderr: b''\n",
      "[02:41:23][DEBUG]<airtest.core.android.adb> C:\\ProgramData\\Anaconda3\\lib\\site-packages\\airtest\\core\\android\\static\\adb\\windows\\adb.exe -s 721QEDRQ35AR3 shell dumpsys package com.netease.nie.yosemite\n",
      "[02:41:23][INFO]<airtest.core.android.yosemite> local version code is 303, installed version code is 303\n",
      "[02:41:23][DEBUG]<airtest.core.android.adb> C:\\ProgramData\\Anaconda3\\lib\\site-packages\\airtest\\core\\android\\static\\adb\\windows\\adb.exe -s 721QEDRQ35AR3 shell am start -a com.netease.nie.yosemite.ACTION_IDENTIFY\n",
      "[pocoservice.apk] stdout: b'INSTRUMENTATION_RESULT: shortMsg=Process crashed.\\r\\nINSTRUMENTATION_CODE: 0\\r\\n'\n",
      "[pocoservice.apk] stderr: b''\n",
      "[pocoservice.apk] stdout: b'\\r\\ncom.netease.open.pocoservice.InstrumentedTestAsLauncher:INSTRUMENTATION_RESULT: shortMsg=Process crashed.\\r\\nINSTRUMENTATION_CODE: 0\\r\\n'\n",
      "[pocoservice.apk] stderr: b''\n",
      "[pocoservice.apk] stdout: b''\n",
      "[pocoservice.apk] stderr: b''\n",
      "[pocoservice.apk] stdout: b'INSTRUMENTATION_RESULT: shortMsg=Process crashed.\\r\\nINSTRUMENTATION_CODE: 0\\r\\n'\n",
      "[pocoservice.apk] stderr: b''\n",
      "[pocoservice.apk] stdout: b'\\r\\ncom.netease.open.pocoservice.InstrumentedTestAsLauncher:INSTRUMENTATION_RESULT: shortMsg=Process crashed.\\r\\nINSTRUMENTATION_CODE: 0\\r\\n'\n",
      "[pocoservice.apk] stderr: b''\n",
      "[02:41:24][DEBUG]<airtest.core.android.adb> C:\\ProgramData\\Anaconda3\\lib\\site-packages\\airtest\\core\\android\\static\\adb\\windows\\adb.exe -s 721QEDRQ35AR3 shell input keyevent HOME\n",
      "still waiting for uiautomation ready.\n",
      "[pocoservice.apk] stdout: b'\\r\\ncom.netease.open.pocoservice.InstrumentedTestAsLauncher:INSTRUMENTATION_RESULT: shortMsg=Process crashed.\\r\\nINSTRUMENTATION_CODE: 0\\r\\n'\n",
      "[pocoservice.apk] stderr: b''\n",
      "[pocoservice.apk] stdout: b'INSTRUMENTATION_RESULT: shortMsg=Process crashed.\\r\\nINSTRUMENTATION_CODE: 0\\r\\n'\n",
      "[pocoservice.apk] stderr: b''\n",
      "[pocoservice.apk] stdout: b'\\r\\ncom.netease.open.pocoservice.InstrumentedTestAsLauncher:INSTRUMENTATION_RESULT: shortMsg=Process crashed.\\r\\nINSTRUMENTATION_CODE: 0\\r\\n'\n",
      "[pocoservice.apk] stderr: b''\n",
      "[pocoservice.apk] stdout: b'INSTRUMENTATION_RESULT: shortMsg=Process crashed.\\r\\nINSTRUMENTATION_CODE: 0\\r\\n'\n",
      "[pocoservice.apk] stderr: b''\n",
      "[pocoservice.apk] stdout: b''\n",
      "[pocoservice.apk] stderr: b''\n",
      "[pocoservice.apk] stdout: b'\\r\\ncom.netease.open.pocoservice.InstrumentedTestAsLauncher:INSTRUMENTATION_RESULT: shortMsg=Process crashed.\\r\\nINSTRUMENTATION_CODE: 0\\r\\n'\n",
      "[pocoservice.apk] stderr: b''\n",
      "[pocoservice.apk] stdout: b'INSTRUMENTATION_RESULT: shortMsg=Process crashed.\\r\\nINSTRUMENTATION_CODE: 0\\r\\n'\n",
      "[pocoservice.apk] stderr: b''\n",
      "still waiting for uiautomation ready.\n",
      "[pocoservice.apk] stdout: b'\\r\\ncom.netease.open.pocoservice.InstrumentedTestAsLauncher:INSTRUMENTATION_RESULT: shortMsg=Process crashed.\\r\\nINSTRUMENTATION_CODE: 0\\r\\n'\n",
      "[pocoservice.apk] stderr: b''\n",
      "[pocoservice.apk] stdout: b'INSTRUMENTATION_RESULT: shortMsg=Process crashed.\\r\\nINSTRUMENTATION_CODE: 0\\r\\n'\n",
      "[pocoservice.apk] stderr: b''\n",
      "[pocoservice.apk] stdout: b'\\r\\ncom.netease.open.pocoservice.InstrumentedTestAsLauncher:INSTRUMENTATION_RESULT: shortMsg=Process crashed.\\r\\nINSTRUMENTATION_CODE: 0\\r\\n'\n",
      "[pocoservice.apk] stderr: b''\n",
      "[pocoservice.apk] stdout: b'INSTRUMENTATION_RESULT: shortMsg=Process crashed.\\r\\nINSTRUMENTATION_CODE: 0\\r\\n'\n",
      "[pocoservice.apk] stderr: b''\n",
      "[pocoservice.apk] stdout: b''\n",
      "[pocoservice.apk] stderr: b''\n",
      "[pocoservice.apk] stdout: b'\\r\\ncom.netease.open.pocoservice.InstrumentedTestAsLauncher:INSTRUMENTATION_RESULT: shortMsg=Process crashed.\\r\\nINSTRUMENTATION_CODE: 0\\r\\n'\n",
      "[pocoservice.apk] stderr: b''\n",
      "[pocoservice.apk] stdout: b'INSTRUMENTATION_RESULT: shortMsg=Process crashed.\\r\\nINSTRUMENTATION_CODE: 0\\r\\n'\n",
      "[pocoservice.apk] stderr: b''\n",
      "still waiting for uiautomation ready.\n"
     ]
    }
   ],
   "source": [
    "\n",
    "\n",
    "\n",
    "from airtest.core.api import *\n",
    "from poco.drivers.android.uiautomation import AndroidUiautomationPoco\n",
    "\n",
    "\n",
    "adb_path = \"C:/Users/xing/Downloads/AirtestIDE-win-1.2.6 (1)/AirtestIDE/airtest/core/android/static/adb/windows/adb.exe\"\n",
    "\n",
    "\n",
    "\n",
    "\n",
    "poco = AndroidUiautomationPoco()\n",
    "poco.device.wake()"
   ]
  },
  {
   "cell_type": "code",
   "execution_count": 40,
   "metadata": {},
   "outputs": [
    {
     "output_type": "stream",
     "name": "stderr",
     "text": [
      "[02:00:44][DEBUG]<airtest.core.android.adb> C:\\ProgramData\\Anaconda3\\lib\\site-packages\\airtest\\core\\android\\static\\adb\\windows\\adb.exe -s 721QEDRQ35AR3 shell am broadcast -a clipper.get\n",
      "[02:00:45][DEBUG]<airtest.core.android.adb> C:\\ProgramData\\Anaconda3\\lib\\site-packages\\airtest\\core\\android\\static\\adb\\windows\\adb.exe -s 721QEDRQ35AR3 shell am instrument -w -e debug false -e class com.netease.open.pocoservice.InstrumentedTestAsLauncher com.netease.open.pocoservice.test/android.support.test.runner.AndroidJUnitRunner\n"
     ]
    },
    {
     "output_type": "execute_result",
     "data": {
      "text/plain": [
       "'Broadcasting: Intent { act=clipper.get }\\r\\nBroadcast completed: result=-1, data=\"https://market.m.taobao.com/app/idleFish-F2e/widle-taobao-rax/page-detail?wh_weex=true&wx_navbar_transparent=true&id=635336392896&ut_sk=1.XuNFfJOtbOkDAI2biR%252BnMXiL_21407387_1611974061322.Copy.detail.635336392896.1884556551&forceFlush=1\"\\r\\n'"
      ]
     },
     "metadata": {},
     "execution_count": 40
    }
   ],
   "source": [
    "adb.shell('am broadcast -a clipper.get')"
   ]
  },
  {
   "cell_type": "code",
   "execution_count": 41,
   "metadata": {},
   "outputs": [
    {
     "output_type": "stream",
     "name": "stderr",
     "text": [
      "[02:00:54][DEBUG]<airtest.core.android.adb> C:\\ProgramData\\Anaconda3\\lib\\site-packages\\airtest\\core\\android\\static\\adb\\windows\\adb.exe -s 721QEDRQ35AR3 shell screencap -p\n",
      "[pocoservice.apk] stdout: b'\\r\\ncom.netease.open.pocoservice.InstrumentedTestAsLauncher:INSTRUMENTATION_RESULT: shortMsg=Process crashed.\\r\\nINSTRUMENTATION_CODE: 0\\r\\n'\n",
      "[pocoservice.apk] stderr: b''\n",
      "[pocoservice.apk] stdout: b''\n",
      "[pocoservice.apk] stderr: b''\n",
      "[pocoservice.apk] stdout: b'\\r\\ncom.netease.open.pocoservice.InstrumentedTestAsLauncher:INSTRUMENTATION_RESULT: shortMsg=Process crashed.\\r\\nINSTRUMENTATION_CODE: 0\\r\\n'\n",
      "[pocoservice.apk] stderr: b''\n",
      "still waiting for uiautomation ready.\n",
      "[pocoservice.apk] stdout: b'\\r\\ncom.netease.open.pocoservice.InstrumentedTestAsLauncher:INSTRUMENTATION_RESULT: shortMsg=Process crashed.\\r\\nINSTRUMENTATION_CODE: 0\\r\\n'\n",
      "[pocoservice.apk] stderr: b''\n",
      "[pocoservice.apk] stdout: b'\\r\\ncom.netease.open.pocoservice.InstrumentedTestAsLauncher:INSTRUMENTATION_RESULT: shortMsg=Process crashed.\\r\\nINSTRUMENTATION_CODE: 0\\r\\n'\n",
      "[pocoservice.apk] stderr: b''\n",
      "[pocoservice.apk] stdout: b''\n",
      "[pocoservice.apk] stderr: b''\n",
      "[pocoservice.apk] stdout: b'\\r\\ncom.netease.open.pocoservice.InstrumentedTestAsLauncher:INSTRUMENTATION_RESULT: shortMsg=Process crashed.\\r\\nINSTRUMENTATION_CODE: 0\\r\\n'\n",
      "[pocoservice.apk] stderr: b''\n",
      "still waiting for uiautomation ready.\n",
      "[pocoservice.apk] stdout: b'\\r\\ncom.netease.open.pocoservice.InstrumentedTestAsLauncher:INSTRUMENTATION_RESULT: shortMsg=Process crashed.\\r\\nINSTRUMENTATION_CODE: 0\\r\\n'\n",
      "[pocoservice.apk] stderr: b''\n",
      "[pocoservice.apk] stdout: b'\\r\\ncom.netease.open.pocoservice.InstrumentedTestAsLauncher:INSTRUMENTATION_RESULT: shortMsg=Process crashed.\\r\\nINSTRUMENTATION_CODE: 0\\r\\n'\n",
      "[pocoservice.apk] stderr: b''\n"
     ]
    }
   ],
   "source": [
    "img = adb.snapshot()"
   ]
  },
  {
   "cell_type": "code",
   "execution_count": null,
   "metadata": {},
   "outputs": [],
   "source": [
    "print(img)"
   ]
  },
  {
   "cell_type": "code",
   "execution_count": 156,
   "metadata": {},
   "outputs": [
    {
     "output_type": "stream",
     "name": "stdout",
     "text": [
      "[pocoservice.apk] stdout: b'INSTRUMENTATION_RESULT: shortMsg=Process crashed.\\r\\nINSTRUMENTATION_CODE: 0\\r\\n'\n",
      "[pocoservice.apk] stderr: b''\n",
      "[pocoservice.apk] stdout: b'INSTRUMENTATION_RESULT: shortMsg=Process crashed.\\r\\nINSTRUMENTATION_CODE: 0\\r\\n'\n",
      "[pocoservice.apk] stderr: b''[pocoservice.apk] stdout: b'INSTRUMENTATION_RESULT: shortMsg=Process crashed.\\r\\nINSTRUMENTATION_CODE: 0\\r\\n'\n",
      "[pocoservice.apk] stderr: b''\n",
      "\n",
      "still waiting for uiautomation ready.\n",
      "[pocoservice.apk] stdout: b'INSTRUMENTATION_RESULT: shortMsg=Process crashed.\\r\\nINSTRUMENTATION_CODE: 0\\r\\n'\n",
      "[pocoservice.apk] stderr: b''\n",
      "[pocoservice.apk] stdout: b'INSTRUMENTATION_RESULT: shortMsg=Process crashed.\\r\\nINSTRUMENTATION_CODE: 0\\r\\n'\n",
      "[pocoservice.apk] stderr: b''\n",
      "[pocoservice.apk] stdout: b'INSTRUMENTATION_RESULT: shortMsg=Process crashed.\\r\\nINSTRUMENTATION_CODE: 0\\r\\n'\n",
      "[pocoservice.apk] stderr: b''\n",
      "[pocoservice.apk] stdout: b'INSTRUMENTATION_RESULT: shortMsg=Process crashed.\\r\\nINSTRUMENTATION_CODE: 0\\r\\n'\n",
      "[pocoservice.apk] stderr: b''\n",
      "[pocoservice.apk] stdout: b'INSTRUMENTATION_RESULT: shortMsg=Process crashed.\\r\\nINSTRUMENTATION_CODE: 0\\r\\n'\n",
      "[pocoservice.apk] stderr: b''\n",
      "[pocoservice.apk] stdout: b'INSTRUMENTATION_RESULT: shortMsg=Process crashed.\\r\\nINSTRUMENTATION_CODE: 0\\r\\n'\n",
      "[pocoservice.apk] stderr: b''\n",
      "[pocoservice.apk] stdout: b''\n",
      "[pocoservice.apk] stderr: b''\n",
      "[pocoservice.apk] stdout: b'INSTRUMENTATION_RESULT: shortMsg=Process crashed.\\r\\nINSTRUMENTATION_CODE: 0\\r\\n'\n",
      "[pocoservice.apk] stderr: b''\n",
      "[pocoservice.apk] stdout: b'INSTRUMENTATION_RESULT: shortMsg=Process crashed.\\r\\nINSTRUMENTATION_CODE: 0\\r\\n'\n",
      "[pocoservice.apk] stdout: b'INSTRUMENTATION_RESULT: shortMsg=Process crashed.\\r\\nINSTRUMENTATION_CODE: 0\\r\\n'[pocoservice.apk] stderr: b''\n",
      "\n",
      "[pocoservice.apk] stderr: b''\n",
      "still waiting for uiautomation ready.\n"
     ]
    }
   ],
   "source": [
    "import base64\n",
    "import matplotlib.image as image\n",
    "import matplotlib.pyplot as plt\n",
    "from PIL import Image\n",
    "import io\n",
    "import datetime\n",
    "import uuid\n",
    "import random\n",
    "import os\n",
    "\n",
    "########################################\n",
    "# pos:中心点位置(x,y)\n",
    "# size: (width, height)\n",
    "def getFishSnapShot(pos, size):\n",
    "\n",
    "    res = poco.snapshot()\n",
    "    img_data = base64.b64decode(res[0])\n",
    "\n",
    "    ff = io.BytesIO(img_data)\n",
    "    img = image.imread(ff, res[1])\n",
    "    # img2 = Image.open(ff)\n",
    "    # img2.show()\n",
    "    shape = img.shape\n",
    "    screen_h = shape[0]\n",
    "    screen_w = shape[1]\n",
    "\n",
    "    pos_x = int(pos[0]*screen_w)\n",
    "    pos_y = int(pos[1]*screen_h)\n",
    "\n",
    "    item_w = int(screen_w * size[0])\n",
    "    item_h = int(screen_h * size[1])\n",
    "    item_begin_x = pos_x - item_w//2 -1\n",
    "    item_begin_y = pos_y - item_h//2 - 1\n",
    "    item_end_x = item_begin_x + item_w + 2\n",
    "    item_end_y = item_begin_y + item_h + 2\n",
    "    img2 = img[item_begin_y:item_end_y, item_begin_x:item_end_x, :]\n",
    "    plt.axis('off')\n",
    "    #plt.imshow(img2)\n",
    "    #img_name = str(uuid.uuid1()) + \".png\"\n",
    "    img_name = \"Fish-\" + datetime.datetime.now().strftime(\"%Y-%m-%d-%H%M%S-\")+ str(random.randint(1000000,10000000)) + \".png\"\n",
    "    img_dir = 'img'\n",
    "    if(not os.path.exists(img_dir)):\n",
    "        os.mkdir(img_dir)\n",
    "    Image.fromarray(img2).save( img_dir + '/' + img_name)\n",
    "    # with open('1.'+res[1], 'wb') as f:\n",
    "    #     f.write(img_data)\n",
    "    #     f.close()\n",
    "    return img_name\n"
   ]
  },
  {
   "cell_type": "code",
   "execution_count": 157,
   "metadata": {},
   "outputs": [
    {
     "output_type": "stream",
     "name": "stdout",
     "text": [
      "###################\n",
      "###################\n",
      "[0.2611111111111111, 0.4005208333333333]\n",
      "[0.43703703703703706, 0.4197916666666667]\n",
      "[pocoservice.apk] stdout: b'INSTRUMENTATION_RESULT: shortMsg=Process crashed.\\r\\nINSTRUMENTATION_CODE: 0\\r\\n'\n",
      "[pocoservice.apk] stderr: b''\n",
      "[pocoservice.apk] stdout: b'INSTRUMENTATION_RESULT: shortMsg=Process crashed.\\r\\nINSTRUMENTATION_CODE: 0\\r\\n'\n",
      "[pocoservice.apk] stderr: b''\n",
      "[pocoservice.apk] stdout: b'INSTRUMENTATION_RESULT: shortMsg=Process crashed.\\r\\nINSTRUMENTATION_CODE: 0\\r\\n'\n",
      "[pocoservice.apk] stderr: b''\n",
      "###################\n",
      "[0.7388888888888889, 0.4005208333333333]\n",
      "[0.43703703703703706, 0.4197916666666667]\n",
      "###################\n",
      "[0.2611111111111111, 0.8234375]\n",
      "[0.43703703703703706, 0.353125]\n",
      "###################\n",
      "[0.7388888888888889, 0.8234375]\n",
      "[0.43703703703703706, 0.353125]\n",
      "[pocoservice.apk] stdout: b'INSTRUMENTATION_RESULT: shortMsg=Process crashed.\\r\\nINSTRUMENTATION_CODE: 0\\r\\n'[pocoservice.apk] stdout: b'INSTRUMENTATION_RESULT: shortMsg=Process crashed.\\r\\nINSTRUMENTATION_CODE: 0\\r\\n'\n",
      "[pocoservice.apk] stderr: b''\n",
      "\n",
      "[pocoservice.apk] stderr: b''\n",
      "[pocoservice.apk] stdout: b'INSTRUMENTATION_RESULT: shortMsg=Process crashed.\\r\\nINSTRUMENTATION_CODE: 0\\r\\n'\n",
      "[pocoservice.apk] stderr: b''\n",
      "[pocoservice.apk] stdout: b''\n",
      "[pocoservice.apk] stderr: b''\n"
     ]
    },
    {
     "output_type": "display_data",
     "data": {
      "text/plain": "<matplotlib.figure.Figure at 0x25d7b2e2cc0>",
      "image/svg+xml": "<?xml version=\"1.0\" encoding=\"utf-8\" standalone=\"no\"?>\r\n<!DOCTYPE svg PUBLIC \"-//W3C//DTD SVG 1.1//EN\"\r\n  \"http://www.w3.org/Graphics/SVG/1.1/DTD/svg11.dtd\">\r\n<!-- Created with matplotlib (http://matplotlib.org/) -->\r\n<svg height=\"252pt\" version=\"1.1\" viewBox=\"0 0 380 252\" width=\"380pt\" xmlns=\"http://www.w3.org/2000/svg\" xmlns:xlink=\"http://www.w3.org/1999/xlink\">\r\n <defs>\r\n  <style type=\"text/css\">\r\n*{stroke-linecap:butt;stroke-linejoin:round;}\r\n  </style>\r\n </defs>\r\n <g id=\"figure_1\">\r\n  <g id=\"patch_1\">\r\n   <path d=\"M 0 252.317344 \r\nL 380.054687 252.317344 \r\nL 380.054687 0 \r\nL 0 0 \r\nz\r\n\" style=\"fill:none;\"/>\r\n  </g>\r\n  <g id=\"axes_1\"/>\r\n </g>\r\n</svg>\r\n",
      "image/png": "[encoded data removed]"
     },
     "metadata": {}
    }
   ],
   "source": [
    "views = poco(\"android.widget.ScrollView\").child(\"android.view.View\")\n",
    "for i in views:\n",
    "    print('###################')\n",
    "    txt = i.get_text()\n",
    "    if(txt):\n",
    "        pos = i.attr('pos')\n",
    "        size = i.attr('size')\n",
    "        print(pos)\n",
    "        print(size)\n",
    "        getFishSnapShot(pos, size)\n",
    "    #print(i.get_text())"
   ]
  },
  {
   "cell_type": "code",
   "execution_count": 142,
   "metadata": {},
   "outputs": [
    {
     "output_type": "execute_result",
     "data": {
      "text/plain": [
       "'2021-01-30 144016 2989424'"
      ]
     },
     "metadata": {},
     "execution_count": 142
    }
   ],
   "source": [
    "datetime.datetime.now().strftime(\"%Y-%m-%d %H%M%S \")+ str(random.randint(1000000,10000000))"
   ]
  }
 ]
}