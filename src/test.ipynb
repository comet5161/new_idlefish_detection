{
 "metadata": {
  "language_info": {
   "codemirror_mode": {
    "name": "ipython",
    "version": 3
   },
   "file_extension": ".py",
   "mimetype": "text/x-python",
   "name": "python",
   "nbconvert_exporter": "python",
   "pygments_lexer": "ipython3",
   "version": "3.6.4-final"
  },
  "orig_nbformat": 2,
  "kernelspec": {
   "name": "python3",
   "display_name": "Python 3",
   "language": "python"
  }
 },
 "nbformat": 4,
 "nbformat_minor": 2,
 "cells": [
  {
   "cell_type": "code",
   "execution_count": null,
   "metadata": {},
   "outputs": [],
   "source": [
    "\n",
    "\n",
    "\n",
    "from airtest.core.api import *\n",
    "from poco.drivers.android.uiautomation import AndroidUiautomationPoco\n",
    "\n",
    "\n",
    "\n",
    "\n",
    "poco = AndroidUiautomationPoco()\n",
    "poco.device.wake()"
   ]
  },
  {
   "cell_type": "code",
   "execution_count": null,
   "metadata": {},
   "outputs": [],
   "source": [
    "adb = poco.adb_client\n",
    "adb.shell('am broadcast -a clipper.get')"
   ]
  },
  {
   "cell_type": "code",
   "execution_count": null,
   "metadata": {},
   "outputs": [],
   "source": [
    "img = adb.snapshot()"
   ]
  },
  {
   "cell_type": "code",
   "execution_count": null,
   "metadata": {},
   "outputs": [],
   "source": [
    "print(img)"
   ]
  },
  {
   "cell_type": "code",
   "execution_count": null,
   "metadata": {},
   "outputs": [],
   "source": [
    "import base64\n",
    "import matplotlib.image as image\n",
    "import matplotlib.pyplot as plt\n",
    "from PIL import Image\n",
    "import io\n",
    "import datetime\n",
    "import uuid\n",
    "import random\n",
    "import os\n",
    "\n",
    "########################################\n",
    "# pos:中心点位置(x,y)\n",
    "# size: (width, height)\n",
    "def getFishSnapShot(pos, size):\n",
    "\n",
    "    res = poco.snapshot()\n",
    "    img_data = base64.b64decode(res[0])\n",
    "\n",
    "    ff = io.BytesIO(img_data)\n",
    "    img = image.imread(ff, res[1])\n",
    "    # img2 = Image.open(ff)\n",
    "    # img2.show()\n",
    "    shape = img.shape\n",
    "    screen_h = shape[0]\n",
    "    screen_w = shape[1]\n",
    "\n",
    "    pos_x = int(pos[0]*screen_w)\n",
    "    pos_y = int(pos[1]*screen_h)\n",
    "\n",
    "    item_w = int(screen_w * size[0])\n",
    "    item_h = int(screen_h * size[1])\n",
    "    item_begin_x = pos_x - item_w//2 -1\n",
    "    item_begin_y = pos_y - item_h//2 - 1\n",
    "    item_end_x = item_begin_x + item_w + 2\n",
    "    item_end_y = item_begin_y + item_h + 2\n",
    "    img2 = img[item_begin_y:item_end_y, item_begin_x:item_end_x, :]\n",
    "    plt.axis('off')\n",
    "    #plt.imshow(img2)\n",
    "    #img_name = str(uuid.uuid1()) + \".png\"\n",
    "    img_name = \"Fish-\" + datetime.datetime.now().strftime(\"%Y-%m-%d-%H%M%S-\")+ str(random.randint(1000000,10000000)) + \".png\"\n",
    "    img_dir = 'img'\n",
    "    if(not os.path.exists(img_dir)):\n",
    "        os.mkdir(img_dir)\n",
    "    Image.fromarray(img2).save( img_dir + '/' + img_name)\n",
    "    # with open('1.'+res[1], 'wb') as f:\n",
    "    #     f.write(img_data)\n",
    "    #     f.close()\n",
    "    return img_name\n"
   ]
  },
  {
   "cell_type": "code",
   "execution_count": null,
   "metadata": {},
   "outputs": [],
   "source": [
    "views = poco(\"android.widget.ScrollView\").child(\"android.view.View\")\n",
    "for i in views:\n",
    "    print('###################')\n",
    "    txt = i.get_text()\n",
    "    if(txt):\n",
    "        pos = i.attr('pos')\n",
    "        size = i.attr('size')\n",
    "        print(pos)\n",
    "        print(size)\n",
    "        getFishSnapShot(pos, size)\n",
    "    #print(i.get_text())"
   ]
  },
  {
   "cell_type": "code",
   "execution_count": null,
   "metadata": {},
   "outputs": [],
   "source": [
    "datetime.datetime.now().strftime(\"%Y-%m-%d %H%M%S \")+ str(random.randint(1000000,10000000))"
   ]
  },
  {
   "cell_type": "code",
   "execution_count": null,
   "metadata": {},
   "outputs": [],
   "source": [
    "poco(\"com.taobao.idlefish:id/tx_id\").click()"
   ]
  },
  {
   "cell_type": "code",
   "execution_count": null,
   "metadata": {},
   "outputs": [],
   "source": [
    "poco(\"android.widget.EditText\").setattr('text', 'ddd')\n",
    "# text('ddddd')"
   ]
  },
  {
   "cell_type": "code",
   "execution_count": null,
   "metadata": {},
   "outputs": [],
   "source": [
    "res = adb.shell('pm list packages')\n",
    "ary = res.split('\\r\\n')\n",
    "ary.sort()\n",
    "for i in ary:\n",
    "    print(i)\n"
   ]
  },
  {
   "cell_type": "code",
   "execution_count": null,
   "metadata": {},
   "outputs": [],
   "source": [
    "adb.shell('pm path com.taobao.idlefish')"
   ]
  },
  {
   "cell_type": "code",
   "execution_count": null,
   "metadata": {},
   "outputs": [],
   "source": [
    "adb.pull('/data/app/com.taobao.idlefish-1/base.apk', './idle_fish.apk')"
   ]
  }
 ]
}